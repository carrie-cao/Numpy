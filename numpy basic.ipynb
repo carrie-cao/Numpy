{
 "cells": [
  {
   "cell_type": "code",
   "execution_count": 85,
   "metadata": {},
   "outputs": [
    {
     "data": {
      "text/plain": [
       "5"
      ]
     },
     "execution_count": 85,
     "metadata": {},
     "output_type": "execute_result"
    }
   ],
   "source": [
    "#Numpy basic\n",
    "import numpy as np\n",
    "\n",
    "# 1 d array \n",
    "arr = np.array([10, 20, 30, 40, 50])\n",
    "# dimensionality, shape, number of elements\n",
    "arr.ndim  # 1\n",
    "arr.shape  # (5,)\n",
    "len(arr)  # 5"
   ]
  },
  {
   "cell_type": "code",
   "execution_count": 86,
   "metadata": {},
   "outputs": [
    {
     "data": {
      "text/plain": [
       "numpy.ndarray"
      ]
     },
     "execution_count": 86,
     "metadata": {},
     "output_type": "execute_result"
    }
   ],
   "source": [
    "# 2-dimensional array\n",
    "arr_2dim = np.array([\n",
    "    [10, 20, 30, 40, 50],\n",
    "    [100, 200, 300, 400, 500]\n",
    "])\n",
    "\n",
    "# number of nested elements\n",
    "arr_2dim.size  # 10\n",
    "\n",
    "# type of object\n",
    "type(arr_2dim)  "
   ]
  },
  {
   "cell_type": "code",
   "execution_count": 87,
   "metadata": {},
   "outputs": [
    {
     "data": {
      "text/plain": [
       "dtype('int32')"
      ]
     },
     "execution_count": 87,
     "metadata": {},
     "output_type": "execute_result"
    }
   ],
   "source": [
    "# type of internal data\n",
    "arr_2dim.dtype  "
   ]
  },
  {
   "cell_type": "code",
   "execution_count": 88,
   "metadata": {},
   "outputs": [
    {
     "data": {
      "text/plain": [
       "array(['1', 'bad', 'array', '2', '3'], dtype='<U11')"
      ]
     },
     "execution_count": 88,
     "metadata": {},
     "output_type": "execute_result"
    }
   ],
   "source": [
    "# element should be same type\n",
    "# for nested arrays, inner arrays should have the same number \n",
    "np.array([1, 2, 3])  # good\n",
    "np.array([1, 'bad', 'array', 2, 3])  # bad array"
   ]
  },
  {
   "cell_type": "code",
   "execution_count": 89,
   "metadata": {},
   "outputs": [
    {
     "data": {
      "text/plain": [
       "array([[1, 2, 3, 4],\n",
       "       [5, 6, 5, 7]])"
      ]
     },
     "execution_count": 89,
     "metadata": {},
     "output_type": "execute_result"
    }
   ],
   "source": [
    "# good\n",
    "np.array([\n",
    "    [1, 2, 3, 4],\n",
    "    [5, 6, 5, 7],\n",
    "])  "
   ]
  },
  {
   "cell_type": "code",
   "execution_count": 90,
   "metadata": {},
   "outputs": [
    {
     "data": {
      "text/plain": [
       "array([list([1, 2, 3, 4]), list([5, 6])], dtype=object)"
      ]
     },
     "execution_count": 90,
     "metadata": {},
     "output_type": "execute_result"
    }
   ],
   "source": [
    "# bad \n",
    "np.array([\n",
    "    [1, 2, 3, 4],\n",
    "    [5, 6]\n",
    "])  #(1d array of 2 python lists, not  a 2d array)"
   ]
  },
  {
   "cell_type": "code",
   "execution_count": 91,
   "metadata": {},
   "outputs": [
    {
     "data": {
      "text/plain": [
       "array([['g', 'j'],\n",
       "       ['c', 'd'],\n",
       "       ['h', 'k']], dtype='<U1')"
      ]
     },
     "execution_count": 91,
     "metadata": {},
     "output_type": "execute_result"
    }
   ],
   "source": [
    "# nested lists\n",
    "np.array([\n",
    "    ['g', 'j'],\n",
    "    ['c', 'd'],\n",
    "    ['h', 'k']\n",
    "])"
   ]
  },
  {
   "cell_type": "code",
   "execution_count": 92,
   "metadata": {},
   "outputs": [
    {
     "data": {
      "text/plain": [
       "array([[0., 0., 0., 0., 0.],\n",
       "       [0., 0., 0., 0., 0.],\n",
       "       [0., 0., 0., 0., 0.],\n",
       "       [0., 0., 0., 0., 0.]])"
      ]
     },
     "execution_count": 92,
     "metadata": {},
     "output_type": "execute_result"
    }
   ],
   "source": [
    "# 4x5 array of 0s \n",
    "np.zeros(shape = (4, 5))"
   ]
  },
  {
   "cell_type": "code",
   "execution_count": 93,
   "metadata": {},
   "outputs": [
    {
     "data": {
      "text/plain": [
       "array([['good', 'good', 'good', 'good', 'good'],\n",
       "       ['good', 'good', 'good', 'good', 'good'],\n",
       "       ['good', 'good', 'good', 'good', 'good'],\n",
       "       ['good', 'good', 'good', 'good', 'good'],\n",
       "       ['good', 'good', 'good', 'good', 'good']], dtype='<U4')"
      ]
     },
     "execution_count": 93,
     "metadata": {},
     "output_type": "execute_result"
    }
   ],
   "source": [
    "# initialize with any value\n",
    "np.full(shape = (5, 5), fill_value = 'good')"
   ]
  },
  {
   "cell_type": "code",
   "execution_count": 94,
   "metadata": {},
   "outputs": [
    {
     "data": {
      "text/plain": [
       "array([1, 2, 3, 4])"
      ]
     },
     "execution_count": 94,
     "metadata": {},
     "output_type": "execute_result"
    }
   ],
   "source": [
    "# sequence of integers from 1 to N\n",
    "np.arange(start = 1, stop = 5, step = 1)  # start is inclusive,stop is exclusive"
   ]
  },
  {
   "cell_type": "code",
   "execution_count": 95,
   "metadata": {},
   "outputs": [
    {
     "data": {
      "text/plain": [
       "array([[4, 3, 2],\n",
       "       [5, 1, 4]])"
      ]
     },
     "execution_count": 95,
     "metadata": {},
     "output_type": "execute_result"
    }
   ],
   "source": [
    "# random integers between 1 and 6\n",
    "np.random.randint(low = 1, high = 7, size = (2, 3))"
   ]
  },
  {
   "cell_type": "code",
   "execution_count": 96,
   "metadata": {},
   "outputs": [
    {
     "data": {
      "text/plain": [
       "10"
      ]
     },
     "execution_count": 96,
     "metadata": {},
     "output_type": "execute_result"
    }
   ],
   "source": [
    "# array elements\n",
    "newarr = np.array([10, 80, 30, 20, 100])\n",
    "newarr[0]  "
   ]
  },
  {
   "cell_type": "code",
   "execution_count": 97,
   "metadata": {},
   "outputs": [
    {
     "data": {
      "text/plain": [
       "array([ 10, -80,  30,  20, 100])"
      ]
     },
     "execution_count": 97,
     "metadata": {},
     "output_type": "execute_result"
    }
   ],
   "source": [
    "# modify  ith value\n",
    "newarr[1] = -80  \n",
    "newarr"
   ]
  },
  {
   "cell_type": "code",
   "execution_count": 98,
   "metadata": {},
   "outputs": [
    {
     "data": {
      "text/plain": [
       "100"
      ]
     },
     "execution_count": 98,
     "metadata": {},
     "output_type": "execute_result"
    }
   ],
   "source": [
    "# access the last element in the array\n",
    "newarr[4]  # 100"
   ]
  },
  {
   "cell_type": "code",
   "execution_count": 99,
   "metadata": {},
   "outputs": [
    {
     "data": {
      "text/plain": [
       "100"
      ]
     },
     "execution_count": 99,
     "metadata": {},
     "output_type": "execute_result"
    }
   ],
   "source": [
    "# access the last element in the array v2\n",
    "newarr[len(newarr) - 1]  # 100"
   ]
  },
  {
   "cell_type": "code",
   "execution_count": 100,
   "metadata": {},
   "outputs": [
    {
     "data": {
      "text/plain": [
       "20"
      ]
     },
     "execution_count": 100,
     "metadata": {},
     "output_type": "execute_result"
    }
   ],
   "source": [
    "newarr[-1]  # last element \n",
    "newarr[-2]  # 2nd to last \n",
    "\n",
    "# out of bounds error\n",
    "#newarr[999]  # error"
   ]
  },
  {
   "cell_type": "code",
   "execution_count": 101,
   "metadata": {},
   "outputs": [
    {
     "data": {
      "text/plain": [
       "array([10, 10, 10])"
      ]
     },
     "execution_count": 101,
     "metadata": {},
     "output_type": "execute_result"
    }
   ],
   "source": [
    "# slicing\n",
    "newarr[[0, 1, 4]]  \n",
    "newarr[[0,1,0,1,0,1,0,1]]  \n",
    "newarr[np.zeros(3, dtype = 'int64')] "
   ]
  },
  {
   "cell_type": "code",
   "execution_count": 102,
   "metadata": {},
   "outputs": [
    {
     "data": {
      "text/plain": [
       "array([ 10,  30, 100])"
      ]
     },
     "execution_count": 102,
     "metadata": {},
     "output_type": "execute_result"
    }
   ],
   "source": [
    "# Slicing\n",
    "newarr[:2]  \n",
    "newarr[2:]  \n",
    "newarr[::2] "
   ]
  },
  {
   "cell_type": "code",
   "execution_count": 103,
   "metadata": {},
   "outputs": [
    {
     "data": {
      "text/plain": [
       "array([1000, 2005,   30,   20, 4500])"
      ]
     },
     "execution_count": 103,
     "metadata": {},
     "output_type": "execute_result"
    }
   ],
   "source": [
    "# modify multiple elements\n",
    "newarr[[0, 1, 4]] = [1000, 2005, 4500]  \n",
    "newarr"
   ]
  },
  {
   "cell_type": "code",
   "execution_count": 104,
   "metadata": {},
   "outputs": [
    {
     "data": {
      "text/plain": [
       "array([[ 0, 10, 15, 20],\n",
       "       [45,  0, 55, 60],\n",
       "       [45, 50,  0, 60]])"
      ]
     },
     "execution_count": 104,
     "metadata": {},
     "output_type": "execute_result"
    }
   ],
   "source": [
    "# 3x4 array \n",
    "colrow = np.array([\n",
    "    [15, 10, 15, 20],\n",
    "    [25, 30, 100, 40],\n",
    "    [45, 50, 55, 60]\n",
    "])\n",
    "\n",
    "# return the element at position (1,2)\n",
    "colrow[1, 2]\n",
    "\n",
    "# return row 1 as a 1d array\n",
    "colrow[0]\n",
    "\n",
    "# return row 1 as a 2d array\n",
    "colrow[0, None]\n",
    "\n",
    "# return the 2nd and 3rd columns in rows 2-3\n",
    "colrow[1:3, [-2, -1]]\n",
    "\n",
    "# replace element (0, 0) with -1\n",
    "colrow[0, 0] = -1\n",
    "\n",
    "# replace the 2nd row using the 3rd row\n",
    "colrow[1] = colrow[2]\n",
    "\n",
    "# insert 0s on diagonal\n",
    "colrow[[0, 1, 2], [0, 1, 2]] = [0, 0, 0]\n",
    "colrow"
   ]
  },
  {
   "cell_type": "code",
   "execution_count": 105,
   "metadata": {},
   "outputs": [
    {
     "data": {
      "text/plain": [
       "array([[20,  8],\n",
       "       [ 6,  2]])"
      ]
     },
     "execution_count": 105,
     "metadata": {},
     "output_type": "execute_result"
    }
   ],
   "source": [
    "# make 2x2 arrays\n",
    "narr = np.array([[2,1], [1,0]])\n",
    "ncolrow = np.array([[6,2], [8,4]])\n",
    "\n",
    "# addition\n",
    "narr + ncolrow\n",
    "\n",
    "# subtraction\n",
    "narr - ncolrow\n",
    "\n",
    "# multiplication\n",
    "narr * ncolrow\n",
    "\n",
    "# division\n",
    "narr / ncolrow\n",
    "\n",
    "# matrix multiplication, you can use the @ operator\n",
    "narr @ ncolrow"
   ]
  },
  {
   "cell_type": "code",
   "execution_count": 106,
   "metadata": {},
   "outputs": [
    {
     "data": {
      "text/plain": [
       "array([[ 6,  4, 11],\n",
       "       [ 7,  5, 12],\n",
       "       [ 8,  6, 13],\n",
       "       [ 9,  7, 14]])"
      ]
     },
     "execution_count": 106,
     "metadata": {},
     "output_type": "execute_result"
    }
   ],
   "source": [
    "#  4x3 array\n",
    "bart = np.array([\n",
    "    [1, 1, 1],\n",
    "    [2, 2, 2],\n",
    "    [3, 3, 3],\n",
    "    [4, 4, 4]\n",
    "])\n",
    "\n",
    "lisa = np.array([\n",
    "    [5, 3, 10],\n",
    "    [5, 3, 10],\n",
    "    [5, 3, 10],\n",
    "    [5, 3, 10]\n",
    "])\n",
    "bart + lisa"
   ]
  },
  {
   "cell_type": "code",
   "execution_count": 107,
   "metadata": {},
   "outputs": [
    {
     "data": {
      "text/plain": [
       "array([[ 6,  4, 11],\n",
       "       [ 7,  5, 12],\n",
       "       [ 8,  6, 13],\n",
       "       [ 9,  7, 14]])"
      ]
     },
     "execution_count": 107,
     "metadata": {},
     "output_type": "execute_result"
    }
   ],
   "source": [
    "# broadcasting\n",
    "bart + np.array([[5, 3, 10]])"
   ]
  },
  {
   "cell_type": "code",
   "execution_count": 108,
   "metadata": {},
   "outputs": [
    {
     "data": {
      "text/plain": [
       "array([-1, -2, -3])"
      ]
     },
     "execution_count": 108,
     "metadata": {},
     "output_type": "execute_result"
    }
   ],
   "source": [
    "# shift,scale\n",
    "np.array([1,2,3]) + 0.5  # [1.5, 2.5, 3.5]\n",
    "np.array([1,2,3]) * -1   # [-1, -2, -3]\n",
    "\n",
    "# add bart to a 4 element vector, error\n",
    "#bart + np.array([1, 2, 3, 4])  "
   ]
  },
  {
   "cell_type": "code",
   "execution_count": 109,
   "metadata": {},
   "outputs": [
    {
     "data": {
      "text/plain": [
       "(3, 1)"
      ]
     },
     "execution_count": 109,
     "metadata": {},
     "output_type": "execute_result"
    }
   ],
   "source": [
    "# martrix work\n",
    "#v1\n",
    "np.random.seed(123)\n",
    "A = np.random.randint(low = 1, high = 10, size = (3, 4))\n",
    "B = np.random.randint(low = 1, high = 10, size = (3, 1))\n",
    "\n",
    "A.shape  # (3, 4)\n",
    "B.shape  # (3, 1)\n",
    "#           ^  ^\n",
    "#         compatible"
   ]
  },
  {
   "cell_type": "code",
   "execution_count": 110,
   "metadata": {},
   "outputs": [
    {
     "data": {
      "text/plain": [
       "(2, 1)"
      ]
     },
     "execution_count": 110,
     "metadata": {},
     "output_type": "execute_result"
    }
   ],
   "source": [
    "#v2\n",
    "np.random.seed(321)\n",
    "A = np.random.randint(low = 1, high = 10, size = (4, 4))\n",
    "B = np.random.randint(low = 1, high = 10, size = (2, 1))\n",
    "\n",
    "A.shape  # (4, 4)\n",
    "B.shape  # (2, 1)\n",
    "#           ^  ^\n",
    "#         not compatible\n",
    "#A*B #error"
   ]
  },
  {
   "cell_type": "code",
   "execution_count": 111,
   "metadata": {},
   "outputs": [
    {
     "data": {
      "text/plain": [
       "array([[[72, 54, 18, 27],\n",
       "        [32, 24,  8, 12]],\n",
       "\n",
       "       [[45, 81, 63, 45],\n",
       "        [20, 36, 28, 20]],\n",
       "\n",
       "       [[81, 63, 27, 63],\n",
       "        [36, 28, 12, 28]]])"
      ]
     },
     "execution_count": 111,
     "metadata": {},
     "output_type": "execute_result"
    }
   ],
   "source": [
    "# v3\n",
    "np.random.seed(1111)\n",
    "A = np.random.randint(low = 1, high = 10, size = (3, 1, 4))\n",
    "B = np.random.randint(low = 1, high = 10, size = (2, 1))\n",
    "\n",
    "A.shape  # (3, 1, 4)\n",
    "B.shape  # (   2, 1)\n",
    "#           ^  ^  ^\n",
    "#         compatible\n",
    "A*B"
   ]
  },
  {
   "cell_type": "code",
   "execution_count": 112,
   "metadata": {},
   "outputs": [
    {
     "data": {
      "text/plain": [
       "array([[-2,  6, -1,  0],\n",
       "       [ 3, 11,  4,  5],\n",
       "       [ 0,  8,  1,  2]])"
      ]
     },
     "execution_count": 112,
     "metadata": {},
     "output_type": "execute_result"
    }
   ],
   "source": [
    "# Deduct\n",
    "A = np.array([3, 11, 4, 5])\n",
    "B = np.array([5, 0, 3])\n",
    " \n",
    "A[np.newaxis, :] - B[:, np.newaxis]"
   ]
  },
  {
   "cell_type": "code",
   "execution_count": 113,
   "metadata": {},
   "outputs": [
    {
     "data": {
      "text/plain": [
       "array([[-2,  6, -1,  0],\n",
       "       [ 3, 11,  4,  5],\n",
       "       [ 0,  8,  1,  2]])"
      ]
     },
     "execution_count": 113,
     "metadata": {},
     "output_type": "execute_result"
    }
   ],
   "source": [
    "# using None\n",
    "A[None, :] - B[:, None]"
   ]
  },
  {
   "cell_type": "code",
   "execution_count": 114,
   "metadata": {},
   "outputs": [
    {
     "data": {
      "text/plain": [
       "array([[-1,  1],\n",
       "       [ 0, -2]])"
      ]
     },
     "execution_count": 114,
     "metadata": {},
     "output_type": "execute_result"
    }
   ],
   "source": [
    "# make 2x2 arrays\n",
    "newarr = np.array([[2,3], [1,2]])\n",
    "colrow = np.array([[3,2], [1,4]])\n",
    "\n",
    "# addition\n",
    "newarr + colrow\n",
    "\n",
    "# subtraction\n",
    "newarr - colrow"
   ]
  },
  {
   "cell_type": "code",
   "execution_count": 115,
   "metadata": {},
   "outputs": [
    {
     "data": {
      "text/plain": [
       "array([2, 3, 4, 5, 6, 7, 8, 9])"
      ]
     },
     "execution_count": 115,
     "metadata": {},
     "output_type": "execute_result"
    }
   ],
   "source": [
    "# reshape\n",
    "nnarr = np.arange(start = 2, stop = 10)  \n",
    "nnarr "
   ]
  },
  {
   "cell_type": "code",
   "execution_count": 116,
   "metadata": {},
   "outputs": [],
   "source": [
    "nncolrow = nnarr.reshape((2,4))\n",
    "nncolrow = np.reshape(a = nnarr, newshape = (2,4))"
   ]
  },
  {
   "cell_type": "code",
   "execution_count": 117,
   "metadata": {},
   "outputs": [
    {
     "data": {
      "text/plain": [
       "array([[2, 6],\n",
       "       [3, 7],\n",
       "       [4, 8],\n",
       "       [5, 9]])"
      ]
     },
     "execution_count": 117,
     "metadata": {},
     "output_type": "execute_result"
    }
   ],
   "source": [
    "# slightly different interfaces\n",
    "nnarr.reshape(2,4)  # allowed\n",
    "#nnarr.reshape(newshape = (2,4))  # error\n",
    "\n",
    "\n",
    "# C-style order reorders the last axis first\n",
    "nncolrow.reshape((4,2), order = 'C')\n",
    "\n",
    "# Fortran-style order reorders the first axis first\n",
    "nncolrow.reshape((4,2), order = 'F')\n",
    "\n",
    "# transpose \n",
    "nncolrow.T"
   ]
  },
  {
   "cell_type": "code",
   "execution_count": 118,
   "metadata": {},
   "outputs": [
    {
     "data": {
      "text/plain": [
       "array([[[2, 3],\n",
       "        [4, 5]],\n",
       "\n",
       "       [[6, 7],\n",
       "        [8, 9]]])"
      ]
     },
     "execution_count": 118,
     "metadata": {},
     "output_type": "execute_result"
    }
   ],
   "source": [
    "# reshape into higher dimensions\n",
    "nncolrow.reshape((2,2,2))\n",
    "\n",
    "#nncolrow.reshape((2,2,3)) # error"
   ]
  },
  {
   "cell_type": "code",
   "execution_count": 119,
   "metadata": {},
   "outputs": [
    {
     "data": {
      "text/plain": [
       "array([[2, 3],\n",
       "       [4, 5],\n",
       "       [6, 7],\n",
       "       [8, 9]])"
      ]
     },
     "execution_count": 119,
     "metadata": {},
     "output_type": "execute_result"
    }
   ],
   "source": [
    "# use -1 for  newshape dimensions \n",
    "nncolrow.reshape((-1, 2))"
   ]
  },
  {
   "cell_type": "code",
   "execution_count": 120,
   "metadata": {},
   "outputs": [
    {
     "data": {
      "text/plain": [
       "array([[9, 7],\n",
       "       [0, 0],\n",
       "       [0, 1]])"
      ]
     },
     "execution_count": 120,
     "metadata": {},
     "output_type": "execute_result"
    }
   ],
   "source": [
    "# 3x3 array of positive integers. we want tocreplace every 3 with 0\n",
    "nnnarr = np.array([\n",
    "    [3, 9, 7],\n",
    "    [2, 0, 3],\n",
    "    [3, 3, 1]\n",
    "])\n",
    "\n",
    "# Checking nnnarr == 3, numpy gives us a 3x3 array of boolean values\n",
    "check = nnnarr == 3\n",
    "\n",
    "# Now we can use this array of boolean values to index our original array, identify which elements are 3\n",
    "nnnarr[check]\n",
    "nnnarr[check] = 0\n",
    "nnnarr\n",
    "\n",
    "# pick out specific rows or columns\n",
    "rows_1_and_3 = np.array([True, False, True])\n",
    "cols_2_and_3 = np.array([False, True, True])\n",
    "nnnarr[rows_1_and_3]  # returns rows 1 and 3\n",
    "nnnarr[:, cols_2_and_3]  # returns cols 2 and 3"
   ]
  },
  {
   "cell_type": "code",
   "execution_count": 121,
   "metadata": {},
   "outputs": [
    {
     "data": {
      "text/plain": [
       "array([9, 1])"
      ]
     },
     "execution_count": 121,
     "metadata": {},
     "output_type": "execute_result"
    }
   ],
   "source": [
    "#multiple boolean indexes \n",
    "nnnarr[rows_1_and_3, cols_2_and_3] # equivalent to nnnarr[[0,2], [1,2]]"
   ]
  },
  {
   "cell_type": "code",
   "execution_count": 122,
   "metadata": {},
   "outputs": [
    {
     "data": {
      "text/plain": [
       "array(['Dennis', 'Dee', 'Charlie'], dtype='<U7')"
      ]
     },
     "execution_count": 122,
     "metadata": {},
     "output_type": "execute_result"
    }
   ],
   "source": [
    "# combine boolean arrays using bitwise operators\n",
    "b1 = np.array([False, False, True, True])\n",
    "b2 = np.array([False, True, False, True])\n",
    "b1 & b2  # [False, False, False,  True]  # and\n",
    "b1 | b2  # [False,  True,  True,  True]  # or\n",
    "b1 ^ b2  # [False,  True,  True, False]  # xor\n",
    "\n",
    "# negation\n",
    "~np.array([False, True])\n",
    "\n",
    "# Examples\n",
    "name = np.array([\"Dennis\", \"Dee\", \"Charlie\", \"Mac\", \"Frank\"])\n",
    "age = np.array([43, 84, 43, 52, 74])\n",
    "sex = np.array(['male', 'female', 'male', 'male', 'male'])\n",
    "\n",
    "#inquiry\n",
    "name[age >= 43]\n",
    "name[(sex == \"male\") & (age > 43)]\n",
    "name[~(sex == \"male\") | (age < 52)]"
   ]
  },
  {
   "cell_type": "code",
   "execution_count": 123,
   "metadata": {},
   "outputs": [
    {
     "data": {
      "text/plain": [
       "array([1, 2, 3], dtype=int64)"
      ]
     },
     "execution_count": 123,
     "metadata": {},
     "output_type": "execute_result"
    }
   ],
   "source": [
    "# np.nan \n",
    "arr = np.ones(shape = (3, 4))\n",
    "arr[[0, 2], [1, 2]] = np.nan\n",
    "arr\n",
    "\n",
    "# check arr == np.nan\n",
    "arr == np.nan\n",
    "np.nan == np.nan  # False\n",
    "np.nan != np.nan  # True\n",
    "\n",
    "# check nan elements\n",
    "np.isnan(arr)\n",
    "\n",
    "# only works for for arrays of floats\n",
    "narr = np.array([1, 2, 3], dtype = 'int64')\n",
    "#narr[1] = np.nan  # error\n",
    "narr"
   ]
  },
  {
   "cell_type": "code",
   "execution_count": 124,
   "metadata": {},
   "outputs": [
    {
     "name": "stderr",
     "output_type": "stream",
     "text": [
      "D:\\Program\\Anaconda3\\lib\\site-packages\\ipykernel_launcher.py:4: RuntimeWarning: divide by zero encountered in true_divide\n",
      "  after removing the cwd from sys.path.\n"
     ]
    },
    {
     "data": {
      "text/plain": [
       "array([-inf,  inf])"
      ]
     },
     "execution_count": 124,
     "metadata": {},
     "output_type": "execute_result"
    }
   ],
   "source": [
    "# np.inf and np.NINF\n",
    "np.array([np.inf, np.NINF])  # [ inf, -inf]\n",
    "# occur when divide by 0\n",
    "np.array([-1, 1])/0  # [-inf,  inf]"
   ]
  },
  {
   "cell_type": "code",
   "execution_count": 125,
   "metadata": {},
   "outputs": [
    {
     "data": {
      "text/plain": [
       "array([False,  True, False,  True, False,  True])"
      ]
     },
     "execution_count": 125,
     "metadata": {},
     "output_type": "execute_result"
    }
   ],
   "source": [
    "# \n",
    "np.inf * 100  # inf\n",
    "np.inf + np.inf # inf\n",
    "np.inf - np.inf  # nan\n",
    "np.inf / np.inf    # nan\n",
    "\n",
    "# \n",
    "np.inf == np.inf   # True\n",
    "np.NINF == np.NINF # True\n",
    "\n",
    "# isolate infinite values \n",
    "arr = np.array([4.4, np.inf, 1.0, np.NINF, 3.1, np.inf])\n",
    "arr == np.inf  # [False,  True, False, False, False,  True]\n",
    "arr == np.NINF # [False, False, False,  True, False, False]\n",
    "\n",
    "# Alternatively,\n",
    "np.isposinf(arr)  # [False,  True, False, False, False,  True]\n",
    "np.isneginf(arr)  # [False, False, False,  True, False, False]\n",
    "np.isinf(arr)     # [False,  True, False,  True, False,  True]"
   ]
  },
  {
   "cell_type": "code",
   "execution_count": 140,
   "metadata": {},
   "outputs": [
    {
     "data": {
      "text/plain": [
       "array(['strings', 'you', 'too'], dtype='<U7')"
      ]
     },
     "execution_count": 140,
     "metadata": {},
     "output_type": "execute_result"
    }
   ],
   "source": [
    "#simulate\n",
    "np.random.randint(low=1, high=7, size=3)  \n",
    "\n",
    "np.random.seed(123)\n",
    "np.random.randint(low=1, high=7, size=3)  \n",
    "np.random.randint(low=1, high=7, size=3)  \n",
    "np.random.seed(2357)\n",
    "np.random.randint(low=1, high=7, size=3) \n",
    "np.random.randint(low=1, high=7, size=3)  \n",
    "\n",
    "# draw values without relpacement\n",
    "np.random.seed(123)\n",
    "np.random.choice(\n",
    "    a = np.arange(1, 7),\n",
    "    size = 3,\n",
    "    replace = False,\n",
    "    p = None\n",
    ")  # [6, 5, 1]\n",
    "\n",
    "# draw values with probabilities\n",
    "np.random.choice(\n",
    "    a = np.arange(1, 7),\n",
    "    size = 3,\n",
    "    replace = False,\n",
    "    p = np.array([0.1, 0.1, 0.1, 0.1, 0.3, 0.3])\n",
    ")  # [5, 2, 6]\n",
    "\n",
    "# draw values from strings\n",
    "np.random.choice(\n",
    "    a = np.array(['you', 'can', 'use', 'strings', 'too']),\n",
    "    size = 3,\n",
    "    replace = False,\n",
    "    p = None\n",
    ")  "
   ]
  },
  {
   "cell_type": "code",
   "execution_count": 127,
   "metadata": {},
   "outputs": [
    {
     "data": {
      "text/plain": [
       "array([[3, 3],\n",
       "       [3, 2],\n",
       "       [1, 3]])"
      ]
     },
     "execution_count": 127,
     "metadata": {},
     "output_type": "execute_result"
    }
   ],
   "source": [
    "# random\n",
    "arr = np.array([\n",
    "    [1, 2],\n",
    "    [3, 4],\n",
    "    [5, 6],\n",
    "    [7, 8],\n",
    "    [9, 10]\n",
    "])\n",
    "\n",
    "# with replacement\n",
    "np.random.seed(123)\n",
    "rand_rows = np.random.randint(\n",
    "    low=0,\n",
    "    high=arr.shape[0],\n",
    "    size=3\n",
    ")  \n",
    "arr[rand_rows]\n",
    "\n",
    "# without replacement\n",
    "rand_rows = np.random.choice(\n",
    "    a=np.arange(start=0, stop=arr.shape[0]),\n",
    "    replace=False,\n",
    "    size=3\n",
    ") \n",
    "arr[rand_rows]\n",
    "\n",
    "# row-wise shuffle\n",
    "np.random.permutation(arr)\n",
    "\n",
    "#uniform()\n",
    "np.random.uniform(low = 1.0, high = 2.0, size = (2, 2))\n",
    "\n",
    "#normal distribution\n",
    "np.random.normal(loc = 0.0, scale = 1.0, size = 2)\n",
    "\n",
    "## binomial() \n",
    "np.random.binomial(n = 10, p = 0.25, size = (3, 2))\n",
    "\n",
    "#https://docs.scipy.org/doc/numpy-1.13.0/reference/routines.random.html"
   ]
  },
  {
   "cell_type": "code",
   "execution_count": 128,
   "metadata": {},
   "outputs": [
    {
     "data": {
      "text/plain": [
       "array([2. , 1. , 6. , 8. , 2.5])"
      ]
     },
     "execution_count": 128,
     "metadata": {},
     "output_type": "execute_result"
    }
   ],
   "source": [
    "# 3rd array, loop\n",
    "arr = np.array([1, 2, 3, 4, 5])\n",
    "narr = np.array([0, 1, 0, 0, 1])\n",
    "\n",
    "a3 = np.zeros(arr.shape[0])\n",
    "for i in range(arr.shape[0]):\n",
    "    if narr[i] == 0:\n",
    "        a3[i] = 2 * arr[i]\n",
    "    else:\n",
    "        a3[i] = arr[i] / 2\n",
    "\n",
    "# where() \n",
    "a3 = np.where((narr == 0), arr * 2.0, arr / 2.0)\n",
    "a3"
   ]
  },
  {
   "cell_type": "code",
   "execution_count": 141,
   "metadata": {},
   "outputs": [
    {
     "data": {
      "text/plain": [
       "94.0"
      ]
     },
     "execution_count": 141,
     "metadata": {},
     "output_type": "execute_result"
    }
   ],
   "source": [
    "arra = np.array(\n",
    "    [[23.0, 2.0, 20.0],\n",
    "     [1.0, 9.0, 2.0],\n",
    "     [1.0, 7.0, 52.0]]\n",
    ")\n",
    "# sum\n",
    "np.sum(arra)  \n",
    "# sum by  rows, columns\n",
    "np.sum(arra, axis = 0)  # sum across axis 0 (column sums)\n",
    "np.sum(arra, axis = 1)  # sum across axis 1 (row sums)\n",
    "# keepdims\n",
    "np.sum(arra, axis = 0, keepdims=True)  \n",
    "# sum with nans\n",
    "arra[0, 0] = np.nan\n",
    "np.sum(arra)  # sum across axis 1 (row sums) nan\n",
    "# sum excluding nans\n",
    "np.sum(arra, where = ~np.isnan(arra))  \n",
    "# alternative\n",
    "np.nansum(arra) "
   ]
  },
  {
   "cell_type": "code",
   "execution_count": 130,
   "metadata": {},
   "outputs": [
    {
     "data": {
      "text/plain": [
       "array([[nan, nan]])"
      ]
     },
     "execution_count": 130,
     "metadata": {},
     "output_type": "execute_result"
    }
   ],
   "source": [
    "#nan\n",
    "arr = np.array([\n",
    "    [np.nan, 1.5],\n",
    "    [2.0, 1.3],\n",
    "    [np.nan, np.nan],\n",
    "    [8.1, np.nan]\n",
    "])\n",
    "#at least one nan value\n",
    "narr = np.any(np.isnan(arr), axis = 1)\n",
    "arr[narr]\n",
    "\n",
    "# all nan values\n",
    "narr = np.all(np.isnan(arr), axis = 1)\n",
    "arr[narr]"
   ]
  },
  {
   "cell_type": "code",
   "execution_count": 131,
   "metadata": {},
   "outputs": [
    {
     "data": {
      "text/plain": [
       "array([[0., 0.],\n",
       "       [0., 0.],\n",
       "       [0., 0.],\n",
       "       [1., 1.],\n",
       "       [1., 1.]])"
      ]
     },
     "execution_count": 131,
     "metadata": {},
     "output_type": "execute_result"
    }
   ],
   "source": [
    "#concatenate\n",
    "arr = np.zeros(shape = (3, 2))\n",
    "narr = np.ones(shape = (2,2))\n",
    "np.concatenate((arr, arr, arr), axis = 0)\n",
    "\n",
    "np.concatenate((arr, arr, arr), axis = 1)\n",
    "np.concatenate((arr, narr), axis = 0)\n",
    "# error\n",
    "#np.concatenate((arr, narr), axis = 1)  "
   ]
  },
  {
   "cell_type": "code",
   "execution_count": 132,
   "metadata": {},
   "outputs": [
    {
     "data": {
      "text/plain": [
       "array([['a', 'c'],\n",
       "       ['b', 'd']], dtype='<U1')"
      ]
     },
     "execution_count": 132,
     "metadata": {},
     "output_type": "execute_result"
    }
   ],
   "source": [
    "#stack\n",
    "arr = np.array(['a', 'b'])\n",
    "narr = np.array(['c', 'd'])\n",
    "nnarr = np.array([['e', 'f']])\n",
    "arr0 = np.array([['g', 'h', 'i']])\n",
    "arr1 = np.array(\n",
    "    [['j', 'k'],\n",
    "     ['l', 'm']]\n",
    ")\n",
    "\n",
    "# vstack \n",
    "np.vstack((arr, narr))\n",
    "np.vstack((arr, narr, nnarr))\n",
    " # error\n",
    "#np.vstack((nnarr, arr0)) \n",
    "\n",
    "# hstack\n",
    "np.hstack((arr, narr))\n",
    "np.hstack((nnarr, arr0))\n",
    "# error\n",
    "#np.hstack((arr, arr0))  \n",
    "# error\n",
    "#np.hstack((arr0, arr1))  \n",
    "\n",
    "# stack along axis 0\n",
    "np.stack((arr, narr), axis = 0)\n",
    "\n",
    "# stack along axis 1\n",
    "np.stack((arr, narr), axis = 1)\n",
    "\n",
    "# stack arr along axis 2 #error\n",
    "#np.stack((arr, narr), axis = 2)\n",
    "# Use axis = -1 to insert the new axis to end \n",
    "np.stack((arr, narr), axis = -1)"
   ]
  },
  {
   "cell_type": "code",
   "execution_count": 133,
   "metadata": {},
   "outputs": [
    {
     "data": {
      "text/plain": [
       "array([[ 0, 81, 33],\n",
       "       [66, 20, 12],\n",
       "       [92, 11,  3]])"
      ]
     },
     "execution_count": 133,
     "metadata": {},
     "output_type": "execute_result"
    }
   ],
   "source": [
    "# sort \n",
    "arr = np.array([1, 17, 2, 660, 0, 99, 66])\n",
    "np.sort(arr)\n",
    "\n",
    "narr = np.array([20, np.nan, 3, 11])\n",
    "np.sort(narr) \n",
    "\n",
    "np.sort(narr)[::-1]  # reverse the sorted array\n",
    "-np.sort(-narr)      # negate the sorted values of the negated array\n",
    "\n",
    "# kind = 'stable'\n",
    "np.sort(np.array([2, 1, 3, 2]), kind='stable')\n",
    "\n",
    "# 2d array\n",
    "alpha = np.array([\n",
    "    [66, 20, 12],\n",
    "    [0, 81, 33],\n",
    "    [92, 11, 3]\n",
    "])\n",
    "np.sort(a = alpha, axis = 0)   # sorts by row axis\n",
    "np.sort(a = alpha, axis = 1)   # sorts by column axis\n",
    "np.sort(a = alpha, axis = -1)  # (default) sorts by last axis (in this case, the column axis)\n",
    "\n",
    "# sort the rows of arr based on the values in the 1st column\n",
    "alpha[np.array([1, 0, 2])]\n",
    "\n",
    "# argsort()\n",
    "beta = np.array([3, 0, 66, 20])  \n",
    "np.argsort(beta)                \n",
    "np.sort(beta)                  \n",
    "\n",
    "# sort a 2d array's rows based on a certain column\n",
    "alpha[np.argsort(alpha[:, 1])]   # sort by column 1 ascending\n",
    "alpha[np.argsort(-alpha[:, -1])]  # sort by last column, descending"
   ]
  },
  {
   "cell_type": "code",
   "execution_count": 134,
   "metadata": {},
   "outputs": [
    {
     "data": {
      "text/plain": [
       "(array(['a', 'b', 'c'], dtype='<U1'), array([2, 2, 2], dtype=int64))"
      ]
     },
     "execution_count": 134,
     "metadata": {},
     "output_type": "execute_result"
    }
   ],
   "source": [
    "# unique value\n",
    "arr = np.array(['b', 'b', 'a', 'a', 'c', 'c'])\n",
    "\n",
    "np.unique(arr)   # ['a', 'b', 'c', 'nan']\n",
    "\n",
    "# sort \n",
    "uniques, first_positions = np.unique(arr, return_index = True)\n",
    "uniques[np.argsort(first_positions)]  # ['b', 'a', 'c']\n",
    "\n",
    "# counts\n",
    "np.unique(arr, return_counts=True)"
   ]
  },
  {
   "cell_type": "code",
   "execution_count": 135,
   "metadata": {},
   "outputs": [
    {
     "data": {
      "text/plain": [
       "array([[1, 1],\n",
       "       [2, 2],\n",
       "       [3, 3]])"
      ]
     },
     "execution_count": 135,
     "metadata": {},
     "output_type": "execute_result"
    }
   ],
   "source": [
    "#create a column based on existing\n",
    "import numpy as np\n",
    "np.random.seed(123)\n",
    "arr = np.random.uniform(low = 0.0, high = 1.0, size = (10, 2))\n",
    "arr[np.random.randint(low = 0, high = 10, size = 5), np.repeat(0, 5)] = np.nan\n",
    "arr = np.round(arr, 2)\n",
    "narr = np.where(np.isnan(arr[:, 0]), arr[:, 1], arr[:, 0])\n",
    "out = np.insert(arr = arr, obj = 2, values = narr, axis = 1)\n",
    "# alternative\n",
    "out = np.hstack((arr, narr[:, None]))\n",
    "a = np.array([[1, 1], [2, 2], [3, 3]])\n",
    "a"
   ]
  },
  {
   "cell_type": "code",
   "execution_count": 136,
   "metadata": {},
   "outputs": [
    {
     "data": {
      "text/plain": [
       "array([ 0, 15, 32, 11,  0,  0, 24, 99, 81,  3, 45,  9, 41])"
      ]
     },
     "execution_count": 136,
     "metadata": {},
     "output_type": "execute_result"
    }
   ],
   "source": [
    "# identify indicated value\n",
    "alpha = np.array([0, 15, 32, 11, 5, 5, 24, 99, 81, 3, 45, 9, 41])\n",
    "alpha[(alpha < 10).nonzero()[0][:3]] = 0\n",
    "alpha"
   ]
  },
  {
   "cell_type": "code",
   "execution_count": 137,
   "metadata": {},
   "outputs": [
    {
     "data": {
      "text/plain": [
       "array([[ 0.  , -0.58,  0.  ,  0.  ,  0.  ],\n",
       "       [-1.51,  1.65,  0.  ,  0.  , -2.43],\n",
       "       [ 1.  , -1.09, -0.43,  0.28,  0.  ],\n",
       "       [ 0.  ,  0.  ,  0.  ,  1.27,  0.  ],\n",
       "       [ 0.  ,  0.  ,  0.  , -0.87,  0.  ]])"
      ]
     },
     "execution_count": 137,
     "metadata": {},
     "output_type": "execute_result"
    }
   ],
   "source": [
    "# Insert random\n",
    "sol = np.zeros(shape = (5, 5))\n",
    "np.random.seed(123)\n",
    "val = np.random.normal(size = 10)\n",
    "location = np.random.choice(sol.size, len(val), replace = False)\n",
    "sol.ravel()[location] = val\n",
    "np.round(sol, 2)"
   ]
  },
  {
   "cell_type": "code",
   "execution_count": 138,
   "metadata": {},
   "outputs": [
    {
     "data": {
      "text/plain": [
       "array([[0, 0, 0, 1, 1],\n",
       "       [1, 1, 1, 1, 1],\n",
       "       [0, 0, 0, 0, 1],\n",
       "       [0, 1, 1, 1, 1]])"
      ]
     },
     "execution_count": 138,
     "metadata": {},
     "output_type": "execute_result"
    }
   ],
   "source": [
    "#fill the rows of array based on another.\n",
    "alpha = np.zeros(shape = (4, 5))\n",
    "beta = np.array([3, 0, 4, 1])\n",
    "(beta[:, None] <= np.arange(alpha.shape[1])).astype('int')"
   ]
  },
  {
   "cell_type": "code",
   "execution_count": 139,
   "metadata": {},
   "outputs": [
    {
     "data": {
      "text/plain": [
       "array([[0., 0., 0., 1.],\n",
       "       [0., 1., 0., 0.],\n",
       "       [1., 0., 0., 0.],\n",
       "       [0., 1., 0., 0.]])"
      ]
     },
     "execution_count": 139,
     "metadata": {},
     "output_type": "execute_result"
    }
   ],
   "source": [
    "#convert 1d to 2d\n",
    "alpha = np.array([3, 1, 0, 1])\n",
    "# v1\n",
    "groups = np.max(alpha) + 1\n",
    "out = np.eye(groups)[alpha]\n",
    "# v2\n",
    "out = np.zeros(shape = (len(alpha), groups))\n",
    "out[np.arange(out.shape[0]), alpha] = 1\n",
    "out\n"
   ]
  }
 ],
 "metadata": {
  "kernelspec": {
   "display_name": "Python 3",
   "language": "python",
   "name": "python3"
  },
  "language_info": {
   "codemirror_mode": {
    "name": "ipython",
    "version": 3
   },
   "file_extension": ".py",
   "mimetype": "text/x-python",
   "name": "python",
   "nbconvert_exporter": "python",
   "pygments_lexer": "ipython3",
   "version": "3.7.7"
  }
 },
 "nbformat": 4,
 "nbformat_minor": 4
}
