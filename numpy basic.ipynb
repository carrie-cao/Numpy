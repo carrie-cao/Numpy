{
 "cells": [
  {
   "cell_type": "markdown",
   "metadata": {},
   "source": [
    "# Numpy basic"
   ]
  },
  {
   "cell_type": "code",
   "execution_count": 3,
   "metadata": {},
   "outputs": [
    {
     "name": "stdout",
     "output_type": "stream",
     "text": [
      "[10 20 30 40 50]\n",
      "[[ 10  20  30  40  50]\n",
      " [100 200 300 400 500]]\n"
     ]
    },
    {
     "data": {
      "text/plain": [
       "array([list([1, 2, 3, 4]), list([5, 6])], dtype=object)"
      ]
     },
     "execution_count": 3,
     "metadata": {},
     "output_type": "execute_result"
    }
   ],
   "source": [
    "# import numpy\n",
    "import numpy as np\n",
    "\n",
    "# array from list\n",
    "arr = np.array([10, 20, 30, 40, 50])\n",
    "\n",
    "# print the array\n",
    "print(arr)  # [10 20 30 40 50]\n",
    "\n",
    "# dimensionality and shape\n",
    "arr.ndim  # 1\n",
    "arr.shape  # (5,)\n",
    "\n",
    "# number of elements\n",
    "len(arr)  # 5\n",
    "\n",
    "# We can also make a 2-dimensional array\n",
    "arr_2d = np.array([\n",
    "    [10, 20, 30, 40, 50],\n",
    "    [100, 200, 300, 400, 500]\n",
    "])\n",
    "\n",
    "# print the array\n",
    "print(arr_2d)\n",
    "# [[ 10  20  30  40  50]\n",
    "#  [100 200 300 400 500]]\n",
    "\n",
    "# dimensionality and shape\n",
    "arr_2d.ndim  # 2\n",
    "arr_2d.shape  # (5,)\n",
    "\n",
    "# number of elements\n",
    "len(arr_2d)  # 2\n",
    "\n",
    "# number of nested elements\n",
    "arr_2d.size  # 10\n",
    "\n",
    "# type of object\n",
    "type(arr_2d)  # <class 'numpy.ndarray'>\n",
    "\n",
    "# type of internal data\n",
    "arr_2d.dtype  # int64\n",
    "\n",
    "# There are two basic rules for every numpy array\n",
    "# 1) every element in the array must be of the same type\n",
    "# 2) If an array's elements are also arrays, those inner arrays must have the same number of elements as each other\n",
    "#    In other words, multidimensional arrays must be rectangular and not jagged.\n",
    "\n",
    "# examples\n",
    "np.array([1, 2, 3])  # good\n",
    "np.array([1, 'hello', 3])  # bad array(['1', 'hello', '3'], dtype='<U21')\n",
    "np.array([\n",
    "    [1, 2, 3, 4],\n",
    "    [5, 6, 5, 7],\n",
    "])  # good\n",
    "np.array([\n",
    "    [1, 2, 3, 4],\n",
    "    [5, 6]\n",
    "])  # bad (results in a 1d array of 3 python lists instead of a 2d array)"
   ]
  },
  {
   "cell_type": "code",
   "execution_count": 4,
   "metadata": {},
   "outputs": [
    {
     "data": {
      "text/plain": [
       "array([[2, 4, 1],\n",
       "       [1, 3, 1]])"
      ]
     },
     "execution_count": 4,
     "metadata": {},
     "output_type": "execute_result"
    }
   ],
   "source": [
    "# from list of lists\n",
    "np.array([\n",
    "    ['a', 'b'],\n",
    "    ['c', 'd'],\n",
    "    ['e', 'f']\n",
    "])\n",
    "\n",
    "# 3x5 array of 0s with np.zeros()\n",
    "np.zeros(shape = (3, 5))\n",
    "\n",
    "\n",
    "# initialize the array with any value\n",
    "np.full(shape = (3, 5), fill_value = 'cat')\n",
    "\n",
    "# sequence of integers from 1 to N\n",
    "np.arange(start = 1, stop = 5, step = 1)  # note that start is inclusive while stop is exclusive\n",
    "\n",
    "# random integers between 1 and 6\n",
    "np.random.randint(low = 1, high = 7, size = (2, 3))"
   ]
  },
  {
   "cell_type": "code",
   "execution_count": null,
   "metadata": {},
   "outputs": [],
   "source": [
    "# Suppose we have the following 1d array with 5 elements\n",
    "foo = np.array([10, 20, 30, 40, 50])\n",
    "\n",
    "# access the ith element of foo using foo[i-1], just like a python list\n",
    "foo[0]  # 10, 1st element\n",
    "foo[1]  # 20, 2nd element\n",
    "\n",
    "# modify  ith value\n",
    "foo[1] = -20  # [ 10, -20,  30,  40,  50]\n",
    "\n",
    "# access the last element in the array\n",
    "foo[4]  # 50\n",
    "\n",
    "# access the last element in the array v2\n",
    "foo[len(foo) - 1]  # 50\n",
    "\n",
    "# access the last element in the array v3 using negative indexing\n",
    "foo[-1]  # returns the last element in the array\n",
    "foo[-2]  # returns the 2nd to last element in the array\n",
    "\n",
    "# out of bounds error\n",
    "#foo[999]  # error"
   ]
  },
  {
   "cell_type": "code",
   "execution_count": 6,
   "metadata": {},
   "outputs": [],
   "source": [
    "# access multiple elements at once\n",
    "foo[[0, 1, 4]]  # [ 10, -20,  50]\n",
    "foo[[0,1,0,1,0,1,0,1]]  # [ 10, -20,  10, -20,  10, -20,  10, -20]\n",
    "foo[np.zeros(3, dtype = 'int64')]  # [10, 10, 10]\n",
    "\n",
    "# use slicing, just like with python lists\n",
    "# Slicing: foo[start index : end index : jump by]\n",
    "foo[:2]  # [ 10, -20], get every element before index 2\n",
    "foo[2:]  # [30, 40, 50], get every element from index 2 onward\n",
    "foo[::2] # [10, 30, 50], get every other 2nd element\n",
    "\n",
    "# modify multiple elements\n",
    "foo[[0, 1, 4]] = [100, 200, 400]  # [100, 200,  30,  40, 400]\n",
    "foo"
   ]
  },
  {
   "cell_type": "code",
   "execution_count": 10,
   "metadata": {},
   "outputs": [
    {
     "data": {
      "text/plain": [
       "array([[ 0, 10, 15, 20],\n",
       "       [45,  0, 55, 60],\n",
       "       [45, 50,  0, 60]])"
      ]
     },
     "execution_count": 10,
     "metadata": {},
     "output_type": "execute_result"
    }
   ],
   "source": [
    "# make a new, 3x4 array from list of lists\n",
    "bar = np.array([\n",
    "    [5, 10, 15, 20],\n",
    "    [25, 30, 35, 40],\n",
    "    [45, 50, 55, 60]\n",
    "])\n",
    "\n",
    "# return the element at position (1,2)\n",
    "bar[1, 2]\n",
    "\n",
    "# return row 1 as a 1d array\n",
    "bar[0]\n",
    "\n",
    "# return row 1 as a 2d array\n",
    "bar[0, None]\n",
    "\n",
    "# return the 2nd and 3rd columns in rows 2-3\n",
    "bar[1:3, [-2, -1]]\n",
    "\n",
    "# replace element (0, 0) with -1\n",
    "bar[0, 0] = -1\n",
    "\n",
    "# replace the 2nd row using the 3rd row\n",
    "bar[1] = bar[2]\n",
    "\n",
    "# insert 0s on diagonal\n",
    "bar[[0, 1, 2], [0, 1, 2]] = [0, 0, 0]\n",
    "bar"
   ]
  },
  {
   "cell_type": "code",
   "execution_count": 11,
   "metadata": {},
   "outputs": [
    {
     "data": {
      "text/plain": [
       "array([[13, 20],\n",
       "       [ 1,  2]])"
      ]
     },
     "execution_count": 11,
     "metadata": {},
     "output_type": "execute_result"
    }
   ],
   "source": [
    "# make 2x2 arrays\n",
    "foo = np.array([[4,3], [1,0]])\n",
    "bar = np.array([[1,2], [3,4]])\n",
    "\n",
    "# addition\n",
    "foo + bar\n",
    "\n",
    "# subtraction\n",
    "foo - bar\n",
    "\n",
    "# multiplication\n",
    "foo * bar\n",
    "\n",
    "# division\n",
    "foo / bar\n",
    "\n",
    "# matrix multiplication, you can use the @ operator\n",
    "foo @ bar"
   ]
  },
  {
   "cell_type": "code",
   "execution_count": 13,
   "metadata": {},
   "outputs": [
    {
     "data": {
      "text/plain": [
       "(2, 1)"
      ]
     },
     "execution_count": 13,
     "metadata": {},
     "output_type": "execute_result"
    }
   ],
   "source": [
    "#  4x3 array\n",
    "bart = np.array([\n",
    "    [1, 1, 1],\n",
    "    [2, 2, 2],\n",
    "    [3, 3, 3],\n",
    "    [4, 4, 4]\n",
    "])\n",
    "\n",
    "# add 5 to the 1st column, 3 to the 2nd column and 10 to the 3rd column\n",
    "lisa = np.array([\n",
    "    [5, 3, 10],\n",
    "    [5, 3, 10],\n",
    "    [5, 3, 10],\n",
    "    [5, 3, 10]\n",
    "])\n",
    "bart + lisa\n",
    "\n",
    "# Use broadcasting v1\n",
    "bart + np.array([[5, 3, 10]])\n",
    "\n",
    "# Use broadcasting v2\n",
    "bart +  np.array([5, 3, 10])\n",
    "\n",
    "# shift and scale array\n",
    "np.array([1,2,3]) + 0.5  # [1.5, 2.5, 3.5]\n",
    "np.array([1,2,3]) * -1   # [-1, -2, -3]\n",
    "\n",
    "# try adding bart to a 4 element vector\n",
    "#bart + np.array([0, 0, 0, 0])  # error\n",
    "\n",
    "## So how does broadcasting work and when can we use it?\n",
    "## Suppose we want to add or multiply two arrays, A and B\n",
    "## Moving backwards from the last dimension of each array, we check if their dimensions are compatible\n",
    "## Dimensions are compatible they are equal or either of them is 1\n",
    "## If all of A's dimensions are compatible with B's dimensions, or vice versa, they are compatible arrays\n",
    "\n",
    "### Examples\n",
    "\n",
    "# Example 1\n",
    "np.random.seed(1234)\n",
    "A = np.random.randint(low = 1, high = 10, size = (3, 4))\n",
    "B = np.random.randint(low = 1, high = 10, size = (3, 1))\n",
    "\n",
    "A.shape  # (3, 4)\n",
    "B.shape  # (3, 1)\n",
    "#           ^  ^\n",
    "#         compatible\n",
    "\n",
    "# Example 2\n",
    "np.random.seed(4321)\n",
    "A = np.random.randint(low = 1, high = 10, size = (4, 4))\n",
    "B = np.random.randint(low = 1, high = 10, size = (2, 1))\n",
    "\n",
    "A.shape  # (4, 4)\n",
    "B.shape  # (2, 1)\n",
    "#           ^  ^\n",
    "#         not compatible\n",
    "\n",
    "\n",
    "# Example 3\n",
    "np.random.seed(1111)\n",
    "A = np.random.randint(low = 1, high = 10, size = (3, 1, 4))\n",
    "B = np.random.randint(low = 1, high = 10, size = (2, 1))\n",
    "\n",
    "A.shape  # (3, 1, 4)\n",
    "B.shape  # (   2, 1)\n",
    "#           ^  ^  ^\n",
    "#         compatible"
   ]
  },
  {
   "cell_type": "code",
   "execution_count": 14,
   "metadata": {},
   "outputs": [
    {
     "data": {
      "text/plain": [
       "array([[-2,  6, -1,  0],\n",
       "       [ 3, 11,  4,  5],\n",
       "       [ 0,  8,  1,  2]])"
      ]
     },
     "execution_count": 14,
     "metadata": {},
     "output_type": "execute_result"
    }
   ],
   "source": [
    "# make 1d arrays\n",
    "A = np.array([3, 11, 4, 5])\n",
    "B = np.array([5, 0, 3])\n",
    "\n",
    "# Deduct each element of B from each element of A\n",
    "A[np.newaxis, :] - B[:, np.newaxis]\n",
    "\n",
    "# Same as above, using None\n",
    "A[None, :] - B[:, None]"
   ]
  },
  {
   "cell_type": "code",
   "execution_count": 17,
   "metadata": {},
   "outputs": [
    {
     "data": {
      "text/plain": [
       "array([[1, 2],\n",
       "       [3, 4],\n",
       "       [5, 6],\n",
       "       [7, 8]])"
      ]
     },
     "execution_count": 17,
     "metadata": {},
     "output_type": "execute_result"
    }
   ],
   "source": [
    "# Suppose we have the following 1d array with 8 elements\n",
    "foo = np.arange(start = 1, stop = 9)  # [1, 2, 3, 4, 5, 6, 7, 8]\n",
    "\n",
    "# reshape into a 2x4 array using either the .reshape method of the array object, or the free function np.reshape()\n",
    "bar = foo.reshape((2,4))\n",
    "bar = np.reshape(a = foo, newshape = (2,4))\n",
    "\n",
    "# slightly different interfaces\n",
    "foo.reshape(2,4)  # allowed\n",
    "#foo.reshape(newshape = (2,4))  # error\n",
    "\n",
    "## reshape bar from a 2x4 array to a 4x2 array\n",
    "# C-style order reorders the last axis first\n",
    "bar.reshape((4,2), order = 'C')\n",
    "\n",
    "# Fortran-style order reorders the first axis first\n",
    "bar.reshape((4,2), order = 'F')\n",
    "\n",
    "# matrix transpose of bar\n",
    "bar.T\n",
    "\n",
    "# reshape foo into higher dimensions, like a 2x2x2 array\n",
    "bar.reshape((2,2,2))\n",
    "\n",
    "# reshape foo into 2x2x3 array\n",
    "#bar.reshape((2,2,3)) # error\n",
    "\n",
    "# use -1 for exactly one of the newshape dimensions and numpy will calculate it for you\n",
    "bar.reshape((-1, 2))"
   ]
  },
  {
   "cell_type": "code",
   "execution_count": 18,
   "metadata": {},
   "outputs": [
    {
     "data": {
      "text/plain": [
       "array(['Dee', 'Mac'], dtype='<U7')"
      ]
     },
     "execution_count": 18,
     "metadata": {},
     "output_type": "execute_result"
    }
   ],
   "source": [
    "# 3x3 array of positive integers. we want tocreplace every 3 with 0\n",
    "foo = np.array([\n",
    "    [3, 9, 7],\n",
    "    [2, 0, 3],\n",
    "    [3, 3, 1]\n",
    "])\n",
    "\n",
    "# Checking foo == 3, numpy gives us a 3x3 array of boolean values\n",
    "mask = foo == 3\n",
    "\n",
    "# Now we can use this array of boolean values to index our original array, identify which elements are 3\n",
    "foo[mask]\n",
    "foo[mask] = 0\n",
    "foo\n",
    "\n",
    "# use 1d boolean arrays to pick out specific rows or columns\n",
    "rows_1_and_3 = np.array([True, False, True])\n",
    "cols_2_and_3 = np.array([False, True, True])\n",
    "foo[rows_1_and_3]  # returns rows 1 and 3\n",
    "foo[:, cols_2_and_3]  # returns cols 2 and 3\n",
    "\n",
    "## Be careful about using multiple boolean indexes together\n",
    "foo[rows_1_and_3, cols_2_and_3] # equivalent to foo[[0,2], [1,2]]\n",
    "\n",
    "# --- logical operators ---------------------------------------\n",
    "\n",
    "# combine boolean arrays using bitwise operators\n",
    "b1 = np.array([False, False, True, True])\n",
    "b2 = np.array([False, True, False, True])\n",
    "b1 & b2  # [False, False, False,  True]  # and\n",
    "b1 | b2  # [False,  True,  True,  True]  # or\n",
    "b1 ^ b2  # [False,  True,  True, False]  # xor\n",
    "\n",
    "# negation\n",
    "~np.array([False, True])\n",
    "\n",
    "# Examples\n",
    "names = np.array([\"Dennis\", \"Dee\", \"Charlie\", \"Mac\", \"Frank\"])\n",
    "ages = np.array([43, 44, 43, 42, 74])\n",
    "genders = np.array(['male', 'female', 'male', 'male', 'male'])\n",
    "\n",
    "# Who's at least 44?\n",
    "names[ages >= 44]\n",
    "\n",
    "# Which males are over 42?\n",
    "names[(genders == \"male\") & (ages > 42)]\n",
    "\n",
    "# Who's a not a male or younger than 43?\n",
    "names[~(genders == \"male\") | (ages < 43)]"
   ]
  },
  {
   "cell_type": "code",
   "execution_count": 20,
   "metadata": {},
   "outputs": [
    {
     "data": {
      "text/plain": [
       "array([1, 2, 3], dtype=int64)"
      ]
     },
     "execution_count": 20,
     "metadata": {},
     "output_type": "execute_result"
    }
   ],
   "source": [
    "# bot, 2 missing values\n",
    "bot = np.ones(shape = (3, 4))\n",
    "bot[[0, 2], [1, 2]] = np.nan\n",
    "bot\n",
    "\n",
    "# check bot == np.nan\n",
    "bot == np.nan\n",
    "\n",
    "# Be careful\n",
    "np.nan == np.nan  # False\n",
    "np.nan != np.nan  # True\n",
    "\n",
    "\n",
    "# which elements of bot are nan?\n",
    "np.isnan(bot)\n",
    "\n",
    "# only works for for arrays of floats\n",
    "foo = np.array([1, 2, 3], dtype = 'int64')\n",
    "#foo[1] = np.nan  # error\n",
    "foo"
   ]
  },
  {
   "cell_type": "code",
   "execution_count": 21,
   "metadata": {},
   "outputs": [
    {
     "name": "stderr",
     "output_type": "stream",
     "text": [
      "D:\\Program\\Anaconda3\\lib\\site-packages\\ipykernel_launcher.py:5: RuntimeWarning: divide by zero encountered in true_divide\n",
      "  \"\"\"\n"
     ]
    },
    {
     "data": {
      "text/plain": [
       "array([False,  True, False,  True, False,  True])"
      ]
     },
     "execution_count": 21,
     "metadata": {},
     "output_type": "execute_result"
    }
   ],
   "source": [
    "# np.inf and np.NINF\n",
    "np.array([np.inf, np.NINF])  # [ inf, -inf]\n",
    "\n",
    "# more commonly, these values occur when you divide by 0\n",
    "np.array([-1, 1])/0  # [-inf,  inf]\n",
    "\n",
    "# behaviors\n",
    "np.inf * 22  # inf\n",
    "np.inf + np.inf # inf\n",
    "np.inf - np.inf  # nan\n",
    "np.inf / np.inf    # nan\n",
    "\n",
    "# positive infinity equals positive infinity and negative infinity equals negative infinity\n",
    "np.inf == np.inf   # True\n",
    "np.NINF == np.NINF # True\n",
    "\n",
    "# isolate infinite values by checking == positive infinity or == negative infinity\n",
    "foo = np.array([4.4, np.inf, 1.0, np.NINF, 3.1, np.inf])\n",
    "foo == np.inf  # [False,  True, False, False, False,  True]\n",
    "foo == np.NINF # [False, False, False,  True, False, False]\n",
    "\n",
    "# Alternatively,\n",
    "np.isposinf(foo)  # [False,  True, False, False, False,  True]\n",
    "np.isneginf(foo)  # [False, False, False,  True, False, False]\n",
    "np.isinf(foo)     # [False,  True, False,  True, False,  True]"
   ]
  },
  {
   "cell_type": "code",
   "execution_count": 22,
   "metadata": {},
   "outputs": [
    {
     "data": {
      "text/plain": [
       "array([[4, 1],\n",
       "       [0, 2],\n",
       "       [0, 2]])"
      ]
     },
     "execution_count": 22,
     "metadata": {},
     "output_type": "execute_result"
    }
   ],
   "source": [
    "# simulate rolling a 6-sided die 3 times\n",
    "np.random.randint(low=1, high=7, size=3)  # [1, 3, 2]\n",
    "\n",
    "# set a random seed to get reproducible results\n",
    "np.random.seed(2357)\n",
    "np.random.randint(low=1, high=7, size=3)  # [2, 4, 1]\n",
    "np.random.randint(low=1, high=7, size=3)  # [3, 1, 6]\n",
    "np.random.seed(2357)\n",
    "np.random.randint(low=1, high=7, size=3)  # [2, 4, 1]\n",
    "np.random.randint(low=1, high=7, size=3)  # [3, 1, 6]\n",
    "\n",
    "# draw three values between 1 and 6 without relpacement?\n",
    "np.random.seed(2357)\n",
    "np.random.choice(\n",
    "    a = np.arange(1, 7),\n",
    "    size = 3,\n",
    "    replace = False,\n",
    "    p = None\n",
    ")  # [6, 5, 1]\n",
    "\n",
    "# draw three values between 1 and 6 with probabilities\n",
    "np.random.choice(\n",
    "    a = np.arange(1, 7),\n",
    "    size = 3,\n",
    "    replace = False,\n",
    "    p = np.array([0.1, 0.1, 0.1, 0.1, 0.3, 0.3])\n",
    ")  # [5, 2, 6]\n",
    "\n",
    "# draw three values from an array of strings\n",
    "np.random.choice(\n",
    "    a = np.array(['you', 'can', 'use', 'strings', 'too']),\n",
    "    size = 3,\n",
    "    replace = False,\n",
    "    p = None\n",
    ")  # ['use', 'you', 'can']\n",
    "\n",
    "## Sample rows from a 2d array\n",
    "foo = np.array([\n",
    "    [1, 2],\n",
    "    [3, 4],\n",
    "    [5, 6],\n",
    "    [7, 8],\n",
    "    [9, 10]\n",
    "])\n",
    "\n",
    "# with replacement\n",
    "np.random.seed(1234)\n",
    "rand_rows = np.random.randint(\n",
    "    low=0,\n",
    "    high=foo.shape[0],\n",
    "    size=3\n",
    ")  # [3, 4, 4]\n",
    "foo[rand_rows]\n",
    "\n",
    "# without replacement\n",
    "rand_rows = np.random.choice(\n",
    "    a=np.arange(start=0, stop=foo.shape[0]),\n",
    "    replace=False,\n",
    "    size=3\n",
    ")  # [4, 2, 3]\n",
    "foo[rand_rows]\n",
    "\n",
    "# row-wise shuffle\n",
    "np.random.permutation(foo)\n",
    "\n",
    "## uniform() will give you values from a uniform distribution\n",
    "np.random.uniform(low = 1.0, high = 2.0, size = (2, 2))\n",
    "\n",
    "## normal() from a normal distribution\n",
    "np.random.normal(loc = 0.0, scale = 1.0, size = 2)\n",
    "\n",
    "## binomial() from a binomial distribution\n",
    "np.random.binomial(n = 10, p = 0.25, size = (3, 2))\n",
    "\n",
    "## If you want to see more distributions, check out\n",
    "## https://docs.scipy.org/doc/numpy-1.13.0/reference/routines.random.html\n"
   ]
  },
  {
   "cell_type": "code",
   "execution_count": 23,
   "metadata": {},
   "outputs": [],
   "source": [
    "# make two 1d arrays, each with length 5\n",
    "foo = np.array([1, 2, 3, 4, 5])\n",
    "bar = np.array([0, 1, 0, 0, 1])\n",
    "\n",
    "# create a third array called baz such that, where bar is 0, you double the corresponding value\n",
    "# of foo, otherwise, you take half the corresponding value of foo. You might be inclined to do this with a for loop\n",
    "baz = np.zeros(foo.shape[0])\n",
    "for i in range(foo.shape[0]):\n",
    "    if bar[i] == 0:\n",
    "        baz[i] = 2 * foo[i]\n",
    "    else:\n",
    "        baz[i] = foo[i] / 2\n",
    "\n",
    "# Use where() (vectorized solution)\n",
    "baz = np.where((bar == 0), foo * 2.0, foo / 2.0)"
   ]
  },
  {
   "cell_type": "code",
   "execution_count": 24,
   "metadata": {},
   "outputs": [
    {
     "data": {
      "text/plain": [
       "30.0"
      ]
     },
     "execution_count": 24,
     "metadata": {},
     "output_type": "execute_result"
    }
   ],
   "source": [
    "import numpy as np\n",
    "\n",
    "squee = np.array(\n",
    "    [[5.0, 2.0, 9.0],\n",
    "     [1.0, 0.0, 2.0],\n",
    "     [1.0, 7.0, 8.0]]\n",
    ")\n",
    "\n",
    "# sum\n",
    "np.sum(squee)  # 35.0\n",
    "\n",
    "# sum over rows, columns\n",
    "np.sum(squee, axis = 0)  # sum across axis 0 (column sums)\n",
    "np.sum(squee, axis = 1)  # sum across axis 1 (row sums)\n",
    "\n",
    "# keepdims\n",
    "np.sum(squee, axis = 0, keepdims=True)  # [[ 7.,  9., 19.]]\n",
    "\n",
    "# sum with nans\n",
    "squee[0, 0] = np.nan\n",
    "np.sum(squee)  # sum across axis 1 (row sums) nan\n",
    "\n",
    "# sum excluding nans\n",
    "np.sum(squee, where = ~np.isnan(squee))  # 30.0\n",
    "\n",
    "# or..\n",
    "np.nansum(squee)  # 30.0"
   ]
  },
  {
   "cell_type": "code",
   "execution_count": 25,
   "metadata": {},
   "outputs": [
    {
     "data": {
      "text/plain": [
       "array([[nan, nan]])"
      ]
     },
     "execution_count": 25,
     "metadata": {},
     "output_type": "execute_result"
    }
   ],
   "source": [
    "foo = np.array([\n",
    "    [np.nan, 4.4],\n",
    "    [1.0, 3.2],\n",
    "    [np.nan, np.nan],\n",
    "    [0.1, np.nan]\n",
    "])\n",
    "\n",
    "# which rows have at least one nan value\n",
    "mask = np.any(np.isnan(foo), axis = 1)\n",
    "foo[mask]\n",
    "\n",
    "# which rows have all nan values\n",
    "mask = np.all(np.isnan(foo), axis = 1)\n",
    "foo[mask]"
   ]
  },
  {
   "cell_type": "code",
   "execution_count": 27,
   "metadata": {},
   "outputs": [
    {
     "data": {
      "text/plain": [
       "array([[0., 0.],\n",
       "       [0., 0.],\n",
       "       [0., 0.],\n",
       "       [1., 1.],\n",
       "       [1., 1.]])"
      ]
     },
     "execution_count": 27,
     "metadata": {},
     "output_type": "execute_result"
    }
   ],
   "source": [
    "roux = np.zeros(shape = (3, 2))\n",
    "gumbo = np.ones(shape = (2,2))\n",
    "\n",
    "# combine roux with a couple copies of itself row-wise\n",
    "np.concatenate((roux, roux, roux), axis = 0)\n",
    "\n",
    "# column-wise\n",
    "np.concatenate((roux, roux, roux), axis = 1)\n",
    "\n",
    "# combine roux and gumbo row-wise\n",
    "np.concatenate((roux, gumbo), axis = 0)\n",
    "\n",
    "# combine them column-wise\n",
    "#np.concatenate((roux, gumbo), axis = 1)  # error"
   ]
  },
  {
   "cell_type": "code",
   "execution_count": 29,
   "metadata": {},
   "outputs": [
    {
     "data": {
      "text/plain": [
       "array([['a', 'c'],\n",
       "       ['b', 'd']], dtype='<U1')"
      ]
     },
     "execution_count": 29,
     "metadata": {},
     "output_type": "execute_result"
    }
   ],
   "source": [
    "foo = np.array(['a', 'b'])\n",
    "bar = np.array(['c', 'd'])\n",
    "baz = np.array([['e', 'f']])\n",
    "bingo = np.array([['g', 'h', 'i']])\n",
    "bongo = np.array(\n",
    "    [['j', 'k'],\n",
    "     ['l', 'm']]\n",
    ")\n",
    "\n",
    "# vstack foo and bar\n",
    "np.vstack((foo, bar))\n",
    "\n",
    "# vstack foo, bar, and baz\n",
    "np.vstack((foo, bar, baz))\n",
    "\n",
    "# vstack baz and bingo\n",
    "#np.vstack((baz, bingo))  # error\n",
    "\n",
    "# hstack foo and bar\n",
    "np.hstack((foo, bar))\n",
    "\n",
    "# hstack baz and bingo\n",
    "np.hstack((baz, bingo))\n",
    "\n",
    "# hstack foo and bingo\n",
    "#np.hstack((foo, bingo))  # error\n",
    "\n",
    "# hstack bingo and bongo\n",
    "#np.hstack((bingo, bongo))  # error\n",
    "\n",
    "# stack foo and bar along axis 0\n",
    "np.stack((foo, bar), axis = 0)\n",
    "\n",
    "# stack foo and bar along axis 1\n",
    "np.stack((foo, bar), axis = 1)\n",
    "\n",
    "# stack foo and bar along axis 2\n",
    "#np.stack((foo, bar), axis = 2)  # error\n",
    "\n",
    "# Use the shortcut axis = -1 to insert the new axis behind the last existing axis\n",
    "np.stack((foo, bar), axis = -1)"
   ]
  },
  {
   "cell_type": "code",
   "execution_count": 30,
   "metadata": {},
   "outputs": [
    {
     "data": {
      "text/plain": [
       "array([[ 0, 81, 33],\n",
       "       [10, 55, 12],\n",
       "       [92, 11,  3]])"
      ]
     },
     "execution_count": 30,
     "metadata": {},
     "output_type": "execute_result"
    }
   ],
   "source": [
    "# sort a 1d array in ascending order\n",
    "foo = np.array([1, 7, 3, 9, 0, 9, 1])\n",
    "np.sort(foo)\n",
    "\n",
    "# If you have an array with nan values, sort pushes them to the end of the array\n",
    "bar = np.array([5, np.nan, 3, 11])\n",
    "np.sort(bar)  # [ 3.,  5., 11., nan]\n",
    "\n",
    "# sort an array in descending order\n",
    "np.sort(bar)[::-1]  # reverse the sorted array\n",
    "-np.sort(-bar)      # negate the sorted values of the negated array\n",
    "\n",
    "# If you need a stable sorting algorithm, set kind = 'stable'\n",
    "np.sort(np.array([2, 1, 3, 2]), kind='stable')\n",
    "\n",
    "# sort on a 2d array\n",
    "boo = np.array([\n",
    "    [10, 55, 12],\n",
    "    [0, 81, 33],\n",
    "    [92, 11, 3]\n",
    "])\n",
    "np.sort(a = boo, axis = 0)   # sorts along the row axis\n",
    "np.sort(a = boo, axis = 1)   # sorts along the column axis\n",
    "np.sort(a = boo, axis = -1)  # (default) sorts along the last axis (in this case, the column axis)\n",
    "\n",
    "# sort the rows of foo based on the values in the 1st column\n",
    "boo[np.array([1, 0, 2])]\n",
    "\n",
    "# argsort()\n",
    "goo = np.array([3, 0, 10, 5])  # [3, 0, 10, 5]\n",
    "np.argsort(goo)                # [1, 0,  3,  2]\n",
    "np.sort(goo)                   # [0, 3,  5  10]\n",
    "\n",
    "# sort a 2d array's rows based on a certain column\n",
    "boo[np.argsort(boo[:, 1])]   # sort by column 1 ascending\n",
    "boo[np.argsort(-boo[:, -1])]  # sort by last column, descending"
   ]
  },
  {
   "cell_type": "code",
   "execution_count": 31,
   "metadata": {},
   "outputs": [
    {
     "data": {
      "text/plain": [
       "(array(['a', 'b', 'c'], dtype='<U1'), array([2, 2, 2], dtype=int64))"
      ]
     },
     "execution_count": 31,
     "metadata": {},
     "output_type": "execute_result"
    }
   ],
   "source": [
    "foo = np.array(['b', 'b', 'a', 'a', 'c', 'c'])\n",
    "\n",
    "# get uniques\n",
    "np.unique(foo)   # ['a', 'b', 'c', 'nan']\n",
    "\n",
    "# get uniques sorted by first occurrence\n",
    "uniques, first_positions = np.unique(foo, return_index = True)\n",
    "uniques[np.argsort(first_positions)]  # ['b', 'a', 'c']\n",
    "\n",
    "# get uniques with counts\n",
    "np.unique(foo, return_counts=True)"
   ]
  },
  {
   "cell_type": "code",
   "execution_count": 38,
   "metadata": {},
   "outputs": [
    {
     "data": {
      "text/plain": [
       "array([[1, 1],\n",
       "       [2, 2],\n",
       "       [3, 3]])"
      ]
     },
     "execution_count": 38,
     "metadata": {},
     "output_type": "execute_result"
    }
   ],
   "source": [
    "## Given a 10x2 array of floats where the 1st column contains some nan values,\n",
    "## create a 3rd column equal to column 1 where it's not nan and column 2 where it is nan.\n",
    "## In other words, set column 3 equal to column 1, but fall back on column 2 where column 1 has a missing value.\n",
    "\n",
    "# Setup\n",
    "import numpy as np\n",
    "np.random.seed(123)\n",
    "foo = np.random.uniform(low = 0.0, high = 1.0, size = (10, 2))\n",
    "foo[np.random.randint(low = 0, high = 10, size = 5), np.repeat(0, 5)] = np.nan\n",
    "foo = np.round(foo, 2)\n",
    "\n",
    "# Solution\n",
    "newvals = np.where(np.isnan(foo[:, 0]), foo[:, 1], foo[:, 0])\n",
    "result = np.insert(arr = foo, obj = 2, values = newvals, axis = 1)\n",
    "\n",
    "# Or\n",
    "result = np.hstack((foo, newvals[:, None]))\n",
    "\n",
    "\n",
    "a = np.array([[1, 1], [2, 2], [3, 3]])\n",
    "a"
   ]
  },
  {
   "cell_type": "code",
   "execution_count": 36,
   "metadata": {},
   "outputs": [
    {
     "data": {
      "text/plain": [
       "array([ 0, 15, 32, 11,  0,  0, 24, 99, 81,  3, 45,  9, 41])"
      ]
     },
     "execution_count": 36,
     "metadata": {},
     "output_type": "execute_result"
    }
   ],
   "source": [
    "# Given a 1d array of integers, identify the first three values < 10 and replace them with 0.\n",
    "\n",
    "# Setup\n",
    "import numpy as np\n",
    "moo = np.array([0, 15, 32, 11, 5, 5, 24, 99, 81, 3, 45, 9, 41])\n",
    "\n",
    "# Solution\n",
    "moo[(moo < 10).nonzero()[0][:3]] = 0\n",
    "moo"
   ]
  },
  {
   "cell_type": "code",
   "execution_count": 34,
   "metadata": {},
   "outputs": [
    {
     "data": {
      "text/plain": [
       "array([[ 0.   , -0.313,  0.   ,  0.   , -0.721],\n",
       "       [ 0.   ,  0.   ,  0.   ,  0.471,  0.   ],\n",
       "       [ 0.   ,  0.   ,  0.   , -0.637,  0.016],\n",
       "       [ 0.   ,  0.   , -1.191,  0.   ,  0.86 ],\n",
       "       [ 0.887,  1.433, -2.243,  0.   ,  0.   ]])"
      ]
     },
     "execution_count": 34,
     "metadata": {},
     "output_type": "execute_result"
    }
   ],
   "source": [
    "# Insert 10 random normal values into a 5x5 array of 0s at random locations.\n",
    "\n",
    "# Setup\n",
    "import numpy as np\n",
    "oof = np.zeros(shape = (5, 5))\n",
    "\n",
    "# Solution\n",
    "np.random.seed(1234)\n",
    "vals = np.random.normal(size = 10)\n",
    "locs = np.random.choice(oof.size, len(vals), replace = False)\n",
    "oof.ravel()[locs] = vals\n",
    "\n",
    "np.round(oof, 3)"
   ]
  },
  {
   "cell_type": "code",
   "execution_count": 39,
   "metadata": {},
   "outputs": [
    {
     "data": {
      "text/plain": [
       "array([[0, 0, 0, 1, 1],\n",
       "       [1, 1, 1, 1, 1],\n",
       "       [0, 0, 0, 0, 1],\n",
       "       [0, 1, 1, 1, 1]])"
      ]
     },
     "execution_count": 39,
     "metadata": {},
     "output_type": "execute_result"
    }
   ],
   "source": [
    "# Given peanut, a 4x5 array of 0s, and butter, a 5-element array of indices, fill\n",
    "# the rows of peanut with 1s starting from the column indices given by butter.\n",
    "\n",
    "# Setup\n",
    "import numpy as np\n",
    "peanut = np.zeros(shape = (4, 5))\n",
    "butter = np.array([3, 0, 4, 1])\n",
    "\n",
    "# Solution\n",
    "(butter[:, None] <= np.arange(peanut.shape[1])).astype('int')"
   ]
  },
  {
   "cell_type": "code",
   "execution_count": 41,
   "metadata": {},
   "outputs": [
    {
     "data": {
      "text/plain": [
       "array([[0., 0., 0., 1.],\n",
       "       [0., 1., 0., 0.],\n",
       "       [1., 0., 0., 0.],\n",
       "       [0., 1., 0., 0.]])"
      ]
     },
     "execution_count": 41,
     "metadata": {},
     "output_type": "execute_result"
    }
   ],
   "source": [
    "# Given an array of integers, one hot encode it into a 2d array.\n",
    "\n",
    "# Setup\n",
    "\n",
    "yoyoyo = np.array([3, 1, 0, 1])\n",
    "\n",
    "# Solution 1\n",
    "num_classes = np.max(yoyoyo) + 1\n",
    "result = np.eye(num_classes)[yoyoyo]\n",
    "\n",
    "# Solution 2\n",
    "result = np.zeros(shape = (len(yoyoyo), num_classes))\n",
    "result[np.arange(result.shape[0]), yoyoyo] = 1\n",
    "result\n"
   ]
  },
  {
   "cell_type": "code",
   "execution_count": 42,
   "metadata": {},
   "outputs": [
    {
     "data": {
      "text/plain": [
       "array([[0, 0, 0, 1, 1],\n",
       "       [1, 1, 1, 1, 1],\n",
       "       [0, 0, 0, 0, 1],\n",
       "       [0, 1, 1, 1, 1]])"
      ]
     },
     "execution_count": 42,
     "metadata": {},
     "output_type": "execute_result"
    }
   ],
   "source": [
    "# Given peanut, a 4x5 array of 0s, and butter, a 5-element array of indices, fill\n",
    "# the rows of peanut with 1s starting from the column indices given by butter.\n",
    "\n",
    "# Setup\n",
    "\n",
    "peanut = np.zeros(shape = (4, 5))\n",
    "butter = np.array([3, 0, 4, 1])\n",
    "\n",
    "# Solution\n",
    "(butter[:, None] <= np.arange(peanut.shape[1])).astype('int')"
   ]
  },
  {
   "cell_type": "code",
   "execution_count": null,
   "metadata": {},
   "outputs": [],
   "source": []
  }
 ],
 "metadata": {
  "kernelspec": {
   "display_name": "Python 3",
   "language": "python",
   "name": "python3"
  },
  "language_info": {
   "codemirror_mode": {
    "name": "ipython",
    "version": 3
   },
   "file_extension": ".py",
   "mimetype": "text/x-python",
   "name": "python",
   "nbconvert_exporter": "python",
   "pygments_lexer": "ipython3",
   "version": "3.7.7"
  }
 },
 "nbformat": 4,
 "nbformat_minor": 4
}
